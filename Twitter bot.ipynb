{
 "cells": [
  {
   "cell_type": "code",
   "execution_count": 28,
   "metadata": {
    "collapsed": false
   },
   "outputs": [
    {
     "data": {
      "text/plain": [
       "1480"
      ]
     },
     "execution_count": 28,
     "metadata": {},
     "output_type": "execute_result"
    }
   ],
   "source": [
    "### A backend script to gather user ids for twitter \n",
    "\n",
    "\n",
    "\n",
    "import json\n",
    "from pprint import pprint\n",
    "import requests \n",
    "\n",
    "## Reading the data from the files\n",
    "\n",
    "data = []\n",
    "with open('charity.json') as f:\n",
    "    for line in f:\n",
    "        data.append(json.loads(line))\n",
    "        \n",
    "\"\"\"with open('charity.json') as data_file:    \n",
    "    data = json.load(data_file)\n",
    "    \"\"\"\n",
    "    \n",
    "tweets = []\n",
    "ids = []\n",
    "sentiment = [] \n",
    "\n",
    "\n",
    "for i in data:\n",
    "    tweets.append(i['text'])\n",
    "    ids.append(i['id'])\n",
    "\n",
    "    \n",
    "    \n",
    "##extracting the tweets, id, and location\n",
    "\n",
    "\n",
    "###Analyzing the positive and negative sentiment tweets \n",
    "#using an api for quick implementation \n",
    "\n"
   ]
  },
  {
   "cell_type": "code",
   "execution_count": 40,
   "metadata": {
    "collapsed": false
   },
   "outputs": [
    {
     "data": {
      "text/plain": [
       "[\"ireland's version of kids company is twice as odd suicide charity's money may have been used to buy a horse …\",\n",
       " 'donate car to charity california',\n",
       " 'help support ultimate workout special needs amp recovery system campaign',\n",
       " \"that one time i started my own charity providing mental health care for people who can't afford it and this is what y'all tal …\",\n",
       " 'race 4 charity brings you tower rush 4 gosh for further details and registration visit',\n",
       " \"come to rudy's chiropractic clinic to get your car washed by the vvmst it's all donation come support ⚽ ️ 👌 \\U0001f3fb\",\n",
       " 'have you considered leaving a gift to charity when you die',\n",
       " '40 arista switches have been donated by we really like to thank them for this very generous donation :/ …',\n",
       " 'race 4 charity brings you tower rush 4 gosh for further details and registration visit',\n",
       " '40 arista switches have been donated by we really like to thank them for this very generous donation :/ …']"
      ]
     },
     "execution_count": 40,
     "metadata": {},
     "output_type": "execute_result"
    }
   ],
   "source": [
    "# Using 10 tweets for demo \n",
    "\n",
    "\n",
    "\n",
    "\n",
    "import pandas as pd\n",
    "import numpy as np\n",
    "import matplotlib.pyplot as plt\n",
    "from nltk.tokenize import word_tokenize\n",
    "import matplotlib.pyplot as plt\n",
    "import matplotlib\n",
    "from PIL import Image\n",
    "from wordcloud import WordCloud, STOPWORDS\n",
    "import re\n",
    "from nltk.corpus import stopwords\n",
    "import string\n",
    "from sklearn.feature_extraction.text import CountVectorizer as cntvec\n",
    "from collections import Counter\n",
    "\n",
    "\n",
    "emoticons_str = r\"\"\"\n",
    "    (?:\n",
    "        [:=;] # Eyes\n",
    "        [oO\\-]? # Nose (optional)\n",
    "        [D\\)\\]\\(\\]/\\\\OpP] # Mouth\n",
    "    )\"\"\"\n",
    " \n",
    "regex_str = [\n",
    "    emoticons_str,\n",
    "    r'<[^>]+>', # HTML tags\n",
    "    r'(?:@[\\w_]+)', # @-mentions\n",
    "    r\"(?:\\#+[\\w_]+[\\w\\'_\\-]*[\\w_]+)\", # hash-tags\n",
    "    r'http[s]?://(?:[a-z]|[0-9]|[$-_@.&+]|[!*\\(\\),]|(?:%[0-9a-f][0-9a-f]))+', # URLs\n",
    " \n",
    "    r'(?:(?:\\d+,?)+(?:\\.?\\d+)?)', # numbers\n",
    "    r\"(?:[a-z][a-z'\\-_]+[a-z])\", # words with - and '\n",
    "    r'(?:[\\w_]+)', # other words\n",
    "    r'(?:\\S)' # anything else\n",
    "]\n",
    "punc = list(string.punctuation)\n",
    "\n",
    "tokens_re = re.compile(r'('+'|'.join(regex_str)+')', re.VERBOSE | re.IGNORECASE)\n",
    "emoticon_re = re.compile(r'^'+emoticons_str+'$', re.VERBOSE | re.IGNORECASE)\n",
    "\n",
    "\n",
    "def tokenize(s):\n",
    "    return tokens_re.findall(s)\n",
    " \n",
    "def preprocess(s, lowercase=True):\n",
    "    tokens = tokenize(s)\n",
    "    if lowercase:\n",
    "        tokens = [token if emoticon_re.search(token) else token.lower() for token in tokens]\n",
    "    return tokens\n",
    "\n",
    "\n",
    "\n",
    "\n",
    "\n",
    "\n",
    "tweet_demo = tweets[:10]\n",
    "ids_demo   = ids[:10]\n",
    "\n",
    "term = []\n",
    "for i in tweet_demo:\n",
    "    term.append([tr for tr in preprocess(i,True) if tr not in punc and not tr.startswith(('#','@','http','rt'))])\n",
    "\n",
    "terms = []\n",
    "for i in term:\n",
    "    terms.append(\" \".join(i))\n",
    "terms              "
   ]
  },
  {
   "cell_type": "code",
   "execution_count": 44,
   "metadata": {
    "collapsed": false
   },
   "outputs": [
    {
     "name": "stdout",
     "output_type": "stream",
     "text": [
      "ireland's version of kids company is twice as odd suicide charity's money may have been used to buy a horse …  Sentiment:-------> negative \n",
      "\n",
      "donate car to charity california  Sentiment:-------> positive \n",
      "\n",
      "help support ultimate workout special needs amp recovery system campaign  Sentiment:-------> positive \n",
      "\n",
      "that one time i started my own charity providing mental health care for people who can't afford it and this is what y'all tal …  Sentiment:-------> positive \n",
      "\n",
      "race 4 charity brings you tower rush 4 gosh for further details and registration visit  Sentiment:-------> positive \n",
      "\n",
      "come to rudy's chiropractic clinic to get your car washed by the vvmst it's all donation come support ⚽ ️ 👌 🏻  Sentiment:-------> positive \n",
      "\n",
      "have you considered leaving a gift to charity when you die  Sentiment:-------> neutral \n",
      "\n",
      "40 arista switches have been donated by we really like to thank them for this very generous donation :/ …  Sentiment:-------> positive \n",
      "\n",
      "race 4 charity brings you tower rush 4 gosh for further details and registration visit  Sentiment:-------> positive \n",
      "\n",
      "40 arista switches have been donated by we really like to thank them for this very generous donation :/ …  Sentiment:-------> positive \n",
      "\n"
     ]
    }
   ],
   "source": [
    "sentiments = []\n",
    "for i in terms:\n",
    "    payload = {'apikey':'fbc0db0d2ec642b26b4783c8a5c75cac3364ee90','text':i,'outputMode': 'json'}\n",
    "    r = requests.post(\"https://gateway-a.watsonplatform.net/calls/text/TextGetTextSentiment\", data=payload)\n",
    "    a = r.json()\n",
    "    sentiments.append(a['docSentiment']['type'])\n",
    "    print(i,\" Sentiment:------->\",a['docSentiment']['type'],\"\\n\",)                "
   ]
  },
  {
   "cell_type": "code",
   "execution_count": null,
   "metadata": {
    "collapsed": true
   },
   "outputs": [],
   "source": []
  }
 ],
 "metadata": {
  "kernelspec": {
   "display_name": "Python 3",
   "language": "python",
   "name": "python3"
  },
  "language_info": {
   "codemirror_mode": {
    "name": "ipython",
    "version": 3
   },
   "file_extension": ".py",
   "mimetype": "text/x-python",
   "name": "python",
   "nbconvert_exporter": "python",
   "pygments_lexer": "ipython3",
   "version": "3.4.4"
  }
 },
 "nbformat": 4,
 "nbformat_minor": 0
}
